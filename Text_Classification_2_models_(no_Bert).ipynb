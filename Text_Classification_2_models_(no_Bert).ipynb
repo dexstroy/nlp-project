{
  "nbformat": 4,
  "nbformat_minor": 0,
  "metadata": {
    "colab": {
      "name": "Text Classification 2 models (no Bert).ipynb",
      "provenance": [],
      "collapsed_sections": []
    },
    "kernelspec": {
      "name": "python3",
      "display_name": "Python 3"
    },
    "language_info": {
      "name": "python"
    }
  },
  "cells": [
    {
      "cell_type": "code",
      "metadata": {
        "colab": {
          "base_uri": "https://localhost:8080/"
        },
        "id": "g8nju2e7Em9A",
        "outputId": "473cd5ed-b393-4779-e59e-3bb6dc0f45ce"
      },
      "source": [
        "!pip install nltk numpy openpyxl Pillow pyparsing scikit-learn scipy tqdm keras scipy tensorflow transformers"
      ],
      "execution_count": null,
      "outputs": [
        {
          "output_type": "stream",
          "text": [
            "Requirement already satisfied: nltk in /usr/local/lib/python3.7/dist-packages (3.2.5)\n",
            "Requirement already satisfied: numpy in /usr/local/lib/python3.7/dist-packages (1.19.5)\n",
            "Requirement already satisfied: openpyxl in /usr/local/lib/python3.7/dist-packages (2.5.9)\n",
            "Requirement already satisfied: Pillow in /usr/local/lib/python3.7/dist-packages (7.1.2)\n",
            "Requirement already satisfied: pyparsing in /usr/local/lib/python3.7/dist-packages (2.4.7)\n",
            "Requirement already satisfied: scikit-learn in /usr/local/lib/python3.7/dist-packages (0.22.2.post1)\n",
            "Requirement already satisfied: scipy in /usr/local/lib/python3.7/dist-packages (1.4.1)\n",
            "Requirement already satisfied: tqdm in /usr/local/lib/python3.7/dist-packages (4.41.1)\n",
            "Requirement already satisfied: keras in /usr/local/lib/python3.7/dist-packages (2.4.3)\n",
            "Requirement already satisfied: tensorflow in /usr/local/lib/python3.7/dist-packages (2.4.1)\n",
            "Collecting transformers\n",
            "\u001b[?25l  Downloading https://files.pythonhosted.org/packages/d8/b2/57495b5309f09fa501866e225c84532d1fd89536ea62406b2181933fb418/transformers-4.5.1-py3-none-any.whl (2.1MB)\n",
            "\u001b[K     |████████████████████████████████| 2.1MB 12.3MB/s \n",
            "\u001b[?25hRequirement already satisfied: six in /usr/local/lib/python3.7/dist-packages (from nltk) (1.15.0)\n",
            "Requirement already satisfied: jdcal in /usr/local/lib/python3.7/dist-packages (from openpyxl) (1.4.1)\n",
            "Requirement already satisfied: et-xmlfile in /usr/local/lib/python3.7/dist-packages (from openpyxl) (1.0.1)\n",
            "Requirement already satisfied: joblib>=0.11 in /usr/local/lib/python3.7/dist-packages (from scikit-learn) (1.0.1)\n",
            "Requirement already satisfied: h5py in /usr/local/lib/python3.7/dist-packages (from keras) (2.10.0)\n",
            "Requirement already satisfied: pyyaml in /usr/local/lib/python3.7/dist-packages (from keras) (3.13)\n",
            "Requirement already satisfied: wheel~=0.35 in /usr/local/lib/python3.7/dist-packages (from tensorflow) (0.36.2)\n",
            "Requirement already satisfied: google-pasta~=0.2 in /usr/local/lib/python3.7/dist-packages (from tensorflow) (0.2.0)\n",
            "Requirement already satisfied: flatbuffers~=1.12.0 in /usr/local/lib/python3.7/dist-packages (from tensorflow) (1.12)\n",
            "Requirement already satisfied: protobuf>=3.9.2 in /usr/local/lib/python3.7/dist-packages (from tensorflow) (3.12.4)\n",
            "Requirement already satisfied: wrapt~=1.12.1 in /usr/local/lib/python3.7/dist-packages (from tensorflow) (1.12.1)\n",
            "Requirement already satisfied: astunparse~=1.6.3 in /usr/local/lib/python3.7/dist-packages (from tensorflow) (1.6.3)\n",
            "Requirement already satisfied: gast==0.3.3 in /usr/local/lib/python3.7/dist-packages (from tensorflow) (0.3.3)\n",
            "Requirement already satisfied: termcolor~=1.1.0 in /usr/local/lib/python3.7/dist-packages (from tensorflow) (1.1.0)\n",
            "Requirement already satisfied: tensorflow-estimator<2.5.0,>=2.4.0 in /usr/local/lib/python3.7/dist-packages (from tensorflow) (2.4.0)\n",
            "Requirement already satisfied: typing-extensions~=3.7.4 in /usr/local/lib/python3.7/dist-packages (from tensorflow) (3.7.4.3)\n",
            "Requirement already satisfied: grpcio~=1.32.0 in /usr/local/lib/python3.7/dist-packages (from tensorflow) (1.32.0)\n",
            "Requirement already satisfied: absl-py~=0.10 in /usr/local/lib/python3.7/dist-packages (from tensorflow) (0.12.0)\n",
            "Requirement already satisfied: keras-preprocessing~=1.1.2 in /usr/local/lib/python3.7/dist-packages (from tensorflow) (1.1.2)\n",
            "Requirement already satisfied: tensorboard~=2.4 in /usr/local/lib/python3.7/dist-packages (from tensorflow) (2.4.1)\n",
            "Requirement already satisfied: opt-einsum~=3.3.0 in /usr/local/lib/python3.7/dist-packages (from tensorflow) (3.3.0)\n",
            "Requirement already satisfied: packaging in /usr/local/lib/python3.7/dist-packages (from transformers) (20.9)\n",
            "Collecting tokenizers<0.11,>=0.10.1\n",
            "\u001b[?25l  Downloading https://files.pythonhosted.org/packages/ae/04/5b870f26a858552025a62f1649c20d29d2672c02ff3c3fb4c688ca46467a/tokenizers-0.10.2-cp37-cp37m-manylinux2010_x86_64.whl (3.3MB)\n",
            "\u001b[K     |████████████████████████████████| 3.3MB 30.0MB/s \n",
            "\u001b[?25hRequirement already satisfied: filelock in /usr/local/lib/python3.7/dist-packages (from transformers) (3.0.12)\n",
            "Collecting sacremoses\n",
            "\u001b[?25l  Downloading https://files.pythonhosted.org/packages/75/ee/67241dc87f266093c533a2d4d3d69438e57d7a90abb216fa076e7d475d4a/sacremoses-0.0.45-py3-none-any.whl (895kB)\n",
            "\u001b[K     |████████████████████████████████| 901kB 59.4MB/s \n",
            "\u001b[?25hRequirement already satisfied: importlib-metadata; python_version < \"3.8\" in /usr/local/lib/python3.7/dist-packages (from transformers) (3.10.1)\n",
            "Requirement already satisfied: regex!=2019.12.17 in /usr/local/lib/python3.7/dist-packages (from transformers) (2019.12.20)\n",
            "Requirement already satisfied: requests in /usr/local/lib/python3.7/dist-packages (from transformers) (2.23.0)\n",
            "Requirement already satisfied: setuptools in /usr/local/lib/python3.7/dist-packages (from protobuf>=3.9.2->tensorflow) (56.0.0)\n",
            "Requirement already satisfied: markdown>=2.6.8 in /usr/local/lib/python3.7/dist-packages (from tensorboard~=2.4->tensorflow) (3.3.4)\n",
            "Requirement already satisfied: google-auth-oauthlib<0.5,>=0.4.1 in /usr/local/lib/python3.7/dist-packages (from tensorboard~=2.4->tensorflow) (0.4.4)\n",
            "Requirement already satisfied: werkzeug>=0.11.15 in /usr/local/lib/python3.7/dist-packages (from tensorboard~=2.4->tensorflow) (1.0.1)\n",
            "Requirement already satisfied: tensorboard-plugin-wit>=1.6.0 in /usr/local/lib/python3.7/dist-packages (from tensorboard~=2.4->tensorflow) (1.8.0)\n",
            "Requirement already satisfied: google-auth<2,>=1.6.3 in /usr/local/lib/python3.7/dist-packages (from tensorboard~=2.4->tensorflow) (1.28.1)\n",
            "Requirement already satisfied: click in /usr/local/lib/python3.7/dist-packages (from sacremoses->transformers) (7.1.2)\n",
            "Requirement already satisfied: zipp>=0.5 in /usr/local/lib/python3.7/dist-packages (from importlib-metadata; python_version < \"3.8\"->transformers) (3.4.1)\n",
            "Requirement already satisfied: chardet<4,>=3.0.2 in /usr/local/lib/python3.7/dist-packages (from requests->transformers) (3.0.4)\n",
            "Requirement already satisfied: certifi>=2017.4.17 in /usr/local/lib/python3.7/dist-packages (from requests->transformers) (2020.12.5)\n",
            "Requirement already satisfied: urllib3!=1.25.0,!=1.25.1,<1.26,>=1.21.1 in /usr/local/lib/python3.7/dist-packages (from requests->transformers) (1.24.3)\n",
            "Requirement already satisfied: idna<3,>=2.5 in /usr/local/lib/python3.7/dist-packages (from requests->transformers) (2.10)\n",
            "Requirement already satisfied: requests-oauthlib>=0.7.0 in /usr/local/lib/python3.7/dist-packages (from google-auth-oauthlib<0.5,>=0.4.1->tensorboard~=2.4->tensorflow) (1.3.0)\n",
            "Requirement already satisfied: rsa<5,>=3.1.4; python_version >= \"3.6\" in /usr/local/lib/python3.7/dist-packages (from google-auth<2,>=1.6.3->tensorboard~=2.4->tensorflow) (4.7.2)\n",
            "Requirement already satisfied: pyasn1-modules>=0.2.1 in /usr/local/lib/python3.7/dist-packages (from google-auth<2,>=1.6.3->tensorboard~=2.4->tensorflow) (0.2.8)\n",
            "Requirement already satisfied: cachetools<5.0,>=2.0.0 in /usr/local/lib/python3.7/dist-packages (from google-auth<2,>=1.6.3->tensorboard~=2.4->tensorflow) (4.2.1)\n",
            "Requirement already satisfied: oauthlib>=3.0.0 in /usr/local/lib/python3.7/dist-packages (from requests-oauthlib>=0.7.0->google-auth-oauthlib<0.5,>=0.4.1->tensorboard~=2.4->tensorflow) (3.1.0)\n",
            "Requirement already satisfied: pyasn1>=0.1.3 in /usr/local/lib/python3.7/dist-packages (from rsa<5,>=3.1.4; python_version >= \"3.6\"->google-auth<2,>=1.6.3->tensorboard~=2.4->tensorflow) (0.4.8)\n",
            "Installing collected packages: tokenizers, sacremoses, transformers\n",
            "Successfully installed sacremoses-0.0.45 tokenizers-0.10.2 transformers-4.5.1\n"
          ],
          "name": "stdout"
        }
      ]
    },
    {
      "cell_type": "code",
      "metadata": {
        "colab": {
          "base_uri": "https://localhost:8080/"
        },
        "id": "NmHZBOJZHI2y",
        "outputId": "64691b09-0a75-4266-f51c-80b1901d1f70"
      },
      "source": [
        "import nltk\n",
        "from sklearn.model_selection import train_test_split\n",
        "import numpy as np\n",
        "from keras.preprocessing.text import Tokenizer \n",
        "from keras.preprocessing import sequence\n",
        "from keras.preprocessing.sequence import pad_sequences\n",
        "import re\n",
        "from openpyxl import load_workbook\n",
        "from sklearn import preprocessing\n",
        "from nltk.stem import PorterStemmer\n",
        "from nltk.tokenize import TweetTokenizer\n",
        "from nltk.corpus import stopwords\n",
        "from keras.models import Sequential\n",
        "from keras import layers\n",
        "from keras.backend import clear_session\n",
        "\n",
        "nltk.download(\"stopwords\")"
      ],
      "execution_count": null,
      "outputs": [
        {
          "output_type": "stream",
          "text": [
            "[nltk_data] Downloading package stopwords to /root/nltk_data...\n",
            "[nltk_data]   Unzipping corpora/stopwords.zip.\n"
          ],
          "name": "stdout"
        },
        {
          "output_type": "execute_result",
          "data": {
            "text/plain": [
              "True"
            ]
          },
          "metadata": {
            "tags": []
          },
          "execution_count": 1
        }
      ]
    },
    {
      "cell_type": "code",
      "metadata": {
        "id": "WtqFmQwwGuMo"
      },
      "source": [
        "contractions = [\n",
        "    (r\"won\\'t\", \"will not\"),\n",
        "    (r\"can\\'t\", \"cannot\"),\n",
        "    (r\"i\\'m\", \"i am\"),\n",
        "    (r\"ain\\'t\", \"is not\"),\n",
        "    (r\"(\\w+)\\'ll\", \"\\g<1> will\"),\n",
        "    (r\"(\\w+)n\\'t\", \"\\g<1> not\"),\n",
        "    (r\"(\\w+)\\'ve\", \"\\g<1> have\"),\n",
        "    (r\"(\\w+)\\'s\", \"\\g<1> is\"),\n",
        "    (r\"(\\w+)\\'re\", \"\\g<1> are\"),\n",
        "    (r\"(\\w+)\\'d\", \"\\g<1> would\")\n",
        "]\n",
        "\n",
        "\n",
        "class Expander(object):\n",
        "    def __init__(self, patterns=contractions):\n",
        "        self.patterns = [(re.compile(regex, re.IGNORECASE), repl) for (regex, repl) in patterns]\n",
        "\n",
        "    def expand(self, text):\n",
        "        s = text\n",
        "        for (pattern, repl) in self.patterns:\n",
        "            s = re.sub(pattern, repl, s)\n",
        "        return s"
      ],
      "execution_count": null,
      "outputs": []
    },
    {
      "cell_type": "code",
      "metadata": {
        "colab": {
          "base_uri": "https://localhost:8080/"
        },
        "id": "57rrd0f2FQRT",
        "outputId": "71e9ec49-f99f-401b-fc76-1d62daedf0a6"
      },
      "source": [
        "ALL_CLASSES = [\n",
        "    \"content discussion\", \"greeting\", \"logistics\", \"assignment instructions\", \"instruction question\",\n",
        "    \"assignment question\", \"general comment\", \"response\", \"incomplete/typo\", \"feedback\",\n",
        "    \"emoticon/non-verbal\", \"discussion wrap-up\", \"outside material\", \"opening statement\",\n",
        "    \"general question\", \"content question\", \"general discussion\"\n",
        "]\n",
        "DATASET_PATH = \"data/dataset.xlsx\"\n",
        "\n",
        "# Opens a single sheet for reading, returns a list of messages and a list of classes\n",
        "def read_worksheet(filename, sheet_name, all_classes, label_encoder, no_columns):\n",
        "    wb = load_workbook(filename, read_only=True)\n",
        "    ws = wb[sheet_name]\n",
        "    column_labels = next(ws.rows)\n",
        "    X = []\n",
        "    y = []\n",
        "    for row in ws.rows:\n",
        "        if row[0].value is None:\n",
        "            break\n",
        "        elif row[0].value.strip() == \"Course\":  # Skip the first line which only contains column titles\n",
        "            continue\n",
        "        new_entry = {}\n",
        "        for i in range(no_columns):\n",
        "            new_entry[column_labels[i].value.lower().replace(\" \", \"_\")] = str(row[i].value)\n",
        "        c_list = [new_entry[\"codepreliminary\"].lower().strip()]\n",
        "        if c_list[0] not in all_classes:\n",
        "            c_list = new_entry[\"codepreliminary\"].lower().strip().split(\"/\")\n",
        "        # If there are 2 classes listed in document add message twice (1 for each class)\n",
        "        for c in c_list:\n",
        "            new_entry[\"codepreliminary\"] = label_encoder.transform([c])[0]\n",
        "            X.append(new_entry[\"message\"])\n",
        "            y.append(label_encoder.transform([c])[0])\n",
        "    wb.close()\n",
        "    return X, y\n",
        "\n",
        "le = preprocessing.LabelEncoder()\n",
        "le.fit(ALL_CLASSES)"
      ],
      "execution_count": null,
      "outputs": [
        {
          "output_type": "execute_result",
          "data": {
            "text/plain": [
              "LabelEncoder()"
            ]
          },
          "metadata": {
            "tags": []
          },
          "execution_count": 72
        }
      ]
    },
    {
      "cell_type": "code",
      "metadata": {
        "id": "GJ4DTlyTFvyt"
      },
      "source": [
        "def preprocess_data(dataset, classes):\n",
        "    # List of emojis found in messages\n",
        "    emojis = [\":)\", \":(\", \":D\", \"👍\"]\n",
        "    ps = PorterStemmer()\n",
        "    tkn = TweetTokenizer()  # Use tweet tokenizer to not split emojis as punctuation\n",
        "    exp = Expander()  # Expands contractions such as I'm, he's into I am, he is\n",
        "    new_dataset = []\n",
        "    new_classes = []\n",
        "    stopword_set = stopwords.words(\"english\")\n",
        "    for i, entry in enumerate(dataset):\n",
        "        exp.expand(entry)\n",
        "        new_entry = []\n",
        "        # Remove capitalization, stopwords\n",
        "        for token in tkn.tokenize(entry):\n",
        "            new_token = ps.stem(token)  # Stem the token and convert to lowercase\n",
        "            if new_token.startswith(\"http\"):\n",
        "                new_token = \"url\"  # Replace links with a url tag\n",
        "            if any(emoji in new_token for emoji in emojis):\n",
        "                new_token = \"emoji\"  # Replace emojis with a string\n",
        "            if (new_token not in stopword_set or len(new_token) == 1) and new_token.isalnum():\n",
        "                new_entry.append(new_token)\n",
        "        if len(new_entry) > 0:\n",
        "            new_dataset.append(\" \".join(new_entry))\n",
        "            new_classes.append(classes[i])\n",
        "\n",
        "    return new_dataset, new_classes"
      ],
      "execution_count": null,
      "outputs": []
    },
    {
      "cell_type": "code",
      "metadata": {
        "id": "zoFJE8UXSeb1"
      },
      "source": [
        "import matplotlib.pyplot as plt\n",
        "plt.style.use('ggplot')\n",
        "\n",
        "def plot_history(history):\n",
        "    acc = history.history['accuracy']\n",
        "    val_acc = history.history['val_accuracy']\n",
        "    loss = history.history['loss']\n",
        "    val_loss = history.history['val_loss']\n",
        "    x = range(1, len(acc) + 1)\n",
        "\n",
        "    plt.figure(figsize=(12, 5))\n",
        "    plt.subplot(1, 2, 1)\n",
        "    plt.plot(x, acc, 'b', label='Training acc')\n",
        "    plt.plot(x, val_acc, 'r', label='Validation acc')\n",
        "    plt.title('Training and validation accuracy')\n",
        "    plt.legend()\n",
        "    plt.subplot(1, 2, 2)\n",
        "    plt.plot(x, loss, 'b', label='Training loss')\n",
        "    plt.plot(x, val_loss, 'r', label='Validation loss')\n",
        "    plt.title('Training and validation loss')\n",
        "    plt.legend()"
      ],
      "execution_count": null,
      "outputs": []
    },
    {
      "cell_type": "code",
      "metadata": {
        "id": "Mao_TlHWGgdp"
      },
      "source": [
        "X, y = read_worksheet(DATASET_PATH, \"Discussion only data\", ALL_CLASSES, le, 10)\n",
        "X2, y2 = read_worksheet(DATASET_PATH, \"CREW data\", ALL_CLASSES, le, 11)\n",
        "X.extend(X2)  # Join worksheets into a single dataset\n",
        "y.extend(y2)\n",
        "\n",
        "#X, y = preprocess_data(X, y)\n",
        "X = np.array(X) \n",
        "y = np.array(y)\n",
        "X_train, X_test, y_train, y_test = train_test_split(X, y, test_size=0.2, random_state=77)\n",
        "\n",
        "t = Tokenizer()\n",
        "t.fit_on_texts(X_train)\n",
        "\n",
        "X_train = t.texts_to_sequences(X_train)\n",
        "X_test = t.texts_to_sequences(X_test)\n",
        "\n",
        "X_train = sequence.pad_sequences(X_train, maxlen=500)\n",
        "X_test = sequence.pad_sequences(X_test, maxlen=500)\n",
        "\n",
        "vocabulary_size = len(t.word_index) + 1"
      ],
      "execution_count": null,
      "outputs": []
    },
    {
      "cell_type": "code",
      "metadata": {
        "colab": {
          "base_uri": "https://localhost:8080/"
        },
        "id": "NI09gonlGkqd",
        "outputId": "96927b7e-e744-4a5b-b07b-55a6f87ac3c9"
      },
      "source": [
        "# Model from labs with embedding\n",
        "embedding_dim = 256\n",
        "\n",
        "clear_session()\n",
        "input_dim = X_train.shape[1]\n",
        "model = Sequential()\n",
        "model.add(layers.Embedding(vocabulary_size, embedding_dim, input_length=500))\n",
        "model.add(layers.Flatten())\n",
        "model.add(layers.Dense(250, activation='relu'))\n",
        "model.add(layers.Dense(len(ALL_CLASSES), activation=\"sigmoid\"))\n",
        "model.compile(loss='sparse_categorical_crossentropy', optimizer='adam', metrics=['accuracy'])\n",
        "history = model.fit(X_train, y_train, validation_data=(X_test, y_test), epochs=20, batch_size=128)\n",
        "scores = model.evaluate(X_test, y_test)"
      ],
      "execution_count": null,
      "outputs": [
        {
          "output_type": "stream",
          "text": [
            "Epoch 1/20\n",
            "6/6 [==============================] - 4s 653ms/step - loss: 5.1607 - accuracy: 0.2443 - val_loss: 2.2790 - val_accuracy: 0.4438\n",
            "Epoch 2/20\n",
            "6/6 [==============================] - 4s 763ms/step - loss: 2.0703 - accuracy: 0.4714 - val_loss: 2.0661 - val_accuracy: 0.4438\n",
            "Epoch 3/20\n",
            "6/6 [==============================] - 4s 710ms/step - loss: 1.7839 - accuracy: 0.5058 - val_loss: 1.9008 - val_accuracy: 0.4852\n",
            "Epoch 4/20\n",
            "6/6 [==============================] - 5s 837ms/step - loss: 1.6715 - accuracy: 0.5317 - val_loss: 1.8605 - val_accuracy: 0.5030\n",
            "Epoch 5/20\n",
            "6/6 [==============================] - 5s 838ms/step - loss: 1.6350 - accuracy: 0.5358 - val_loss: 1.8148 - val_accuracy: 0.4911\n",
            "Epoch 6/20\n",
            "6/6 [==============================] - 5s 835ms/step - loss: 1.5625 - accuracy: 0.5628 - val_loss: 1.7598 - val_accuracy: 0.4970\n",
            "Epoch 7/20\n",
            "6/6 [==============================] - 5s 900ms/step - loss: 1.4681 - accuracy: 0.5777 - val_loss: 1.7680 - val_accuracy: 0.5148\n",
            "Epoch 8/20\n",
            "6/6 [==============================] - 4s 682ms/step - loss: 1.3922 - accuracy: 0.6038 - val_loss: 1.6914 - val_accuracy: 0.4970\n",
            "Epoch 9/20\n",
            "6/6 [==============================] - 4s 571ms/step - loss: 1.3312 - accuracy: 0.6005 - val_loss: 1.6802 - val_accuracy: 0.5385\n",
            "Epoch 10/20\n",
            "6/6 [==============================] - 4s 580ms/step - loss: 1.3000 - accuracy: 0.6444 - val_loss: 1.6642 - val_accuracy: 0.5207\n",
            "Epoch 11/20\n",
            "6/6 [==============================] - 3s 575ms/step - loss: 1.1669 - accuracy: 0.6684 - val_loss: 1.6446 - val_accuracy: 0.5266\n",
            "Epoch 12/20\n",
            "6/6 [==============================] - 3s 566ms/step - loss: 1.0751 - accuracy: 0.6883 - val_loss: 1.6193 - val_accuracy: 0.5325\n",
            "Epoch 13/20\n",
            "6/6 [==============================] - 3s 568ms/step - loss: 1.0361 - accuracy: 0.7005 - val_loss: 1.6797 - val_accuracy: 0.5030\n",
            "Epoch 14/20\n",
            "6/6 [==============================] - 3s 573ms/step - loss: 0.9901 - accuracy: 0.6925 - val_loss: 1.5989 - val_accuracy: 0.5444\n",
            "Epoch 15/20\n",
            "6/6 [==============================] - 3s 570ms/step - loss: 0.9039 - accuracy: 0.7435 - val_loss: 1.6370 - val_accuracy: 0.5148\n",
            "Epoch 16/20\n",
            "6/6 [==============================] - 3s 569ms/step - loss: 0.7791 - accuracy: 0.8056 - val_loss: 1.6073 - val_accuracy: 0.5325\n",
            "Epoch 17/20\n",
            "6/6 [==============================] - 3s 569ms/step - loss: 0.7121 - accuracy: 0.8134 - val_loss: 1.5902 - val_accuracy: 0.5444\n",
            "Epoch 18/20\n",
            "6/6 [==============================] - 3s 569ms/step - loss: 0.6532 - accuracy: 0.8402 - val_loss: 1.6039 - val_accuracy: 0.5562\n",
            "Epoch 19/20\n",
            "6/6 [==============================] - 3s 564ms/step - loss: 0.5752 - accuracy: 0.8710 - val_loss: 1.6049 - val_accuracy: 0.5503\n",
            "Epoch 20/20\n",
            "6/6 [==============================] - 4s 586ms/step - loss: 0.5289 - accuracy: 0.8894 - val_loss: 1.5785 - val_accuracy: 0.5740\n",
            "6/6 [==============================] - 0s 44ms/step - loss: 1.5785 - accuracy: 0.5740\n"
          ],
          "name": "stdout"
        }
      ]
    },
    {
      "cell_type": "code",
      "metadata": {
        "colab": {
          "base_uri": "https://localhost:8080/"
        },
        "id": "M5UPAsn7Izz4",
        "outputId": "b7ab57cb-12ca-4f5d-c3c8-ed7f8e31993c"
      },
      "source": [
        "loss, accuracy = model.evaluate(X_train, y_train, verbose=False)\n",
        "print(\"Training Accuracy: {:.4f}\".format(accuracy))\n",
        "loss, accuracy = model.evaluate(X_test, y_test, verbose=False)\n",
        "print(\"Testing Accuracy:  {:.4f}\".format(accuracy))"
      ],
      "execution_count": null,
      "outputs": [
        {
          "output_type": "stream",
          "text": [
            "Training Accuracy: 0.8991\n",
            "Testing Accuracy:  0.5740\n"
          ],
          "name": "stdout"
        }
      ]
    },
    {
      "cell_type": "code",
      "metadata": {
        "colab": {
          "base_uri": "https://localhost:8080/",
          "height": 337
        },
        "id": "CUBX-fdsLQqQ",
        "outputId": "6a851781-6b70-4b8f-c0d0-d7bb21641bdd"
      },
      "source": [
        "plot_history(history)"
      ],
      "execution_count": null,
      "outputs": [
        {
          "output_type": "display_data",
          "data": {
            "image/png": "[encoded data removed]",
            "text/plain": [
              "<Figure size 864x360 with 2 Axes>"
            ]
          },
          "metadata": {
            "tags": []
          }
        }
      ]
    },
    {
      "cell_type": "code",
      "metadata": {
        "id": "MVnOdcFgnCxh",
        "colab": {
          "base_uri": "https://localhost:8080/"
        },
        "outputId": "cede28eb-e7fe-4702-88f9-3e2315d12cfd"
      },
      "source": [
        "# K Fold validation with different model (no embeddings)\n",
        "from sklearn.model_selection import KFold\n",
        "\n",
        "no_folds = 5\n",
        "kfold = KFold(no_folds, shuffle=True)\n",
        "\n",
        "# Convert to numpy arrays so indexing with list of indexes works\n",
        "X = np.array(X) \n",
        "y = np.array(y)\n",
        "\n",
        "test_accuracy_log = []\n",
        "\n",
        "counter = 1\n",
        "for train, test in kfold.split(X, y):\n",
        "  X_train = X[train]\n",
        "  y_train = y[train]\n",
        "  X_test = X[test]\n",
        "  y_test = y[test]\n",
        "\n",
        "  tokenizer = Tokenizer(5000)\n",
        "  tokenizer.fit_on_texts(X_train)\n",
        "  X_train = tokenizer.sequences_to_matrix(tokenizer.texts_to_sequences(X_train), mode=\"tfidf\")\n",
        "  X_test = tokenizer.sequences_to_matrix(tokenizer.texts_to_sequences(X_test), mode=\"tfidf\")\n",
        "  y_train = to_categorical(y_train, len(ALL_CLASSES))\n",
        "  y_test = to_categorical(y_test, len(ALL_CLASSES))\n",
        "\n",
        "  clear_session()\n",
        "  model = Sequential()\n",
        "  model.add(layers.Dense(512, input_shape=(5000,)))\n",
        "  model.add(layers.Activation(\"relu\"))\n",
        "  model.add(layers.Dropout(0.5))\n",
        "  model.add(layers.Dense(len(ALL_CLASSES)))\n",
        "  model.add(layers.Activation(\"softmax\"))\n",
        "  model.compile(optimizer=\"adam\",\n",
        "                loss=\"categorical_crossentropy\",\n",
        "                metrics=[\"accuracy\"])\n",
        "  print(\"------------------------------------------------------------------------\")\n",
        "  print(\"Step number {}\".format(counter))\n",
        "  history = model.fit(X_train, y_train, epochs=50, validation_split=0.2, batch_size=128, verbose=0)\n",
        "  score = model.evaluate(X_test, y_test, verbose=0)\n",
        "  print(\"Results for fold {}\\n\\tTest accuracy: {:.4f}\\n\\tTest loss: {:.4f}\".format(counter, score[1], score[0]))\n",
        "  test_accuracy_log.append(score[1])\n",
        "  counter += 1  \n",
        "\n",
        "print(\"Average accuracy: {:.4f}\".format(sum(test_accuracy_log) / len(test_accuracy_log)))"
      ],
      "execution_count": null,
      "outputs": [
        {
          "output_type": "stream",
          "text": [
            "------------------------------------------------------------------------\n",
            "Step number 1\n",
            "Results for fold 1\n",
            "\tTest accuracy: 0.6190\n",
            "\tTest loss: 1.7837\n",
            "------------------------------------------------------------------------\n",
            "Step number 2\n",
            "Results for fold 2\n",
            "\tTest accuracy: 0.6726\n",
            "\tTest loss: 1.3869\n",
            "------------------------------------------------------------------------\n",
            "Step number 3\n",
            "Results for fold 3\n",
            "\tTest accuracy: 0.5749\n",
            "\tTest loss: 2.0118\n",
            "------------------------------------------------------------------------\n",
            "Step number 4\n",
            "Results for fold 4\n",
            "\tTest accuracy: 0.6168\n",
            "\tTest loss: 1.6629\n",
            "------------------------------------------------------------------------\n",
            "Step number 5\n",
            "Results for fold 5\n",
            "\tTest accuracy: 0.6587\n",
            "\tTest loss: 1.4963\n",
            "Average accuracy: 0.6284\n"
          ],
          "name": "stdout"
        }
      ]
    },
    {
      "cell_type": "code",
      "metadata": {
        "id": "EoLSoLxvokxH"
      },
      "source": [
        ""
      ],
      "execution_count": null,
      "outputs": []
    }
  ]
}